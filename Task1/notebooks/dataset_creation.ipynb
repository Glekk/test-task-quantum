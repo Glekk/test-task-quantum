{
 "cells": [
  {
   "cell_type": "code",
   "execution_count": 1,
   "metadata": {},
   "outputs": [],
   "source": [
    "import os\n",
    "from dotenv import load_dotenv\n",
    "from datasets import load_dataset, DatasetDict\n",
    "import matplotlib.pyplot as plt"
   ]
  },
  {
   "cell_type": "markdown",
   "metadata": {},
   "source": [
    "#### Setting up some constants (loading from .env file)"
   ]
  },
  {
   "cell_type": "code",
   "execution_count": 2,
   "metadata": {},
   "outputs": [],
   "source": [
    "load_dotenv()\n",
    "\n",
    "SEED = int(os.getenv('SEED'))\n",
    "DATASET_HUGGINGFACE_NAME = os.getenv('DATASET_HUGGINGFACE_NAME')\n",
    "LOCAL_DATASET_PATH = os.getenv('LOCAL_DATASET_PATH')"
   ]
  },
  {
   "cell_type": "markdown",
   "metadata": {},
   "source": [
    "#### Loading the data from Hugging Face\n",
    "As we can see, the data is already split into training and test sets.  \n",
    "It has 2 columns: `tokens` and `tags`, where `tokens` is a list of words and `tags` is a list of tag-ids for each word (0 - non mountain, 1 - mountain)."
   ]
  },
  {
   "cell_type": "code",
   "execution_count": 3,
   "metadata": {},
   "outputs": [
    {
     "data": {
      "text/plain": [
       "DatasetDict({\n",
       "    train: Dataset({\n",
       "        features: ['tokens', 'tags'],\n",
       "        num_rows: 88619\n",
       "    })\n",
       "    test: Dataset({\n",
       "        features: ['tokens', 'tags'],\n",
       "        num_rows: 22110\n",
       "    })\n",
       "})"
      ]
     },
     "execution_count": 3,
     "metadata": {},
     "output_type": "execute_result"
    }
   ],
   "source": [
    "raw_ds = load_dataset(DATASET_HUGGINGFACE_NAME)\n",
    "raw_ds"
   ]
  },
  {
   "cell_type": "code",
   "execution_count": 11,
   "metadata": {},
   "outputs": [
    {
     "name": "stdout",
     "output_type": "stream",
     "text": [
      "['Fugaku', 'was', 'unveiled;', 'it', 'depicts', 'Mount', 'Fuji,', 'symbolising', \"Fugaku's\", 'high']\n",
      "[0, 0, 0, 0, 0, 1, 1, 0, 0, 0]\n"
     ]
    }
   ],
   "source": [
    "print(raw_ds['train'][0]['tokens'][20:30])\n",
    "print(raw_ds['train'][0]['tags'][20:30])"
   ]
  },
  {
   "cell_type": "code",
   "execution_count": 9,
   "metadata": {},
   "outputs": [],
   "source": [
    "def mountains_distribution(ds):\n",
    "    '''\n",
    "    Function to calculate the distribution of mountains in the dataset\n",
    "    \n",
    "    Args:\n",
    "        ds (datasets.Dataset): dataset to calculate the distribution\n",
    "\n",
    "    Returns:\n",
    "        total_mountains (int): total number of mountains in the dataset\n",
    "        total_tokens (int): total number of tokens in the dataset\n",
    "        sentences_with_mountains (int): total number of sentences with mountains in the dataset\n",
    "        sentence_without_mountains (int): total number of sentences without mountains in the dataset\n",
    "    '''\n",
    "    total_tokens = 0\n",
    "    total_mountains = 0\n",
    "    sentences_with_mountains = 0\n",
    "    for sentence in ds:\n",
    "        total_tokens += len(sentence['tags'])\n",
    "        if 1 in sentence['tags']:\n",
    "            total_mountains += sentence['tags'].count(1)\n",
    "            sentences_with_mountains += 1\n",
    "    sentence_without_mountains = len(ds) - sentences_with_mountains\n",
    "    return total_mountains, total_tokens, sentences_with_mountains, sentence_without_mountains\n",
    "\n",
    "train_total_mountains, train_total_tokens, train_sentences_with_mountains, train_sentence_without_mountains = mountains_distribution(raw_ds['train'])\n",
    "test_total_mountains, test_total_tokens, test_sentences_with_mountains, test_sentence_without_mountains = mountains_distribution(raw_ds['test'])"
   ]
  },
  {
   "cell_type": "code",
   "execution_count": 21,
   "metadata": {},
   "outputs": [
    {
     "name": "stdout",
     "output_type": "stream",
     "text": [
      "Train dataset: 88223 sentences containing mountains and 396 sentences without mountains\n",
      "Test dataset: 22003 sentences containing mountains and 107 sentences without mountains\n",
      "Train dataset: 4.15% of tokens are mountains\n",
      "Test dataset: 4.16% of tokens are mountains\n"
     ]
    }
   ],
   "source": [
    "print(f'Train dataset: {train_sentences_with_mountains} sentences containing mountains and {train_sentence_without_mountains} sentences without mountains')\n",
    "print(f'Test dataset: {test_sentences_with_mountains} sentences containing mountains and {test_sentence_without_mountains} sentences without mountains')\n",
    "print(f'Train dataset: {train_total_mountains/train_total_tokens:.2%} of tokens are mountains')\n",
    "print(f'Test dataset: {test_total_mountains/test_total_tokens:.2%} of tokens are mountains')"
   ]
  },
  {
   "cell_type": "markdown",
   "metadata": {},
   "source": [
    "#### Spliting tokens with word->punctiation into two tokens\n",
    "Reason: The data itself is quite clean, but when I was testing the model I noticed, that because words and punctuation are not separated in the data and they share the same tag (that propagates onto punctuation during tokenization), the model predicted punctuation after mountain names as mountain names.  "
   ]
  },
  {
   "cell_type": "code",
   "execution_count": 12,
   "metadata": {},
   "outputs": [],
   "source": [
    "def split_tokens_with_punctuations(example):\n",
    "    '''\n",
    "    Split tokens with punctuations into two tokens.\n",
    "\n",
    "    Args:\n",
    "        example (dict): A dictionary containing tokens and tags.\n",
    "\n",
    "    Returns:\n",
    "        dict: A dictionary containing tokens and tags with punctuations split.\n",
    "    '''\n",
    "    new_tokens = []\n",
    "    new_labels = []\n",
    "    for token, label in zip(example['tokens'], example['tags']):\n",
    "        if token.endswith(('!', '?', '.', ',')) and len(token) > 1:\n",
    "            new_tokens.append(token[:-1])\n",
    "            new_tokens.append(token[-1])\n",
    "            new_labels.append(label)\n",
    "            new_labels.append(0) # 0 is the tag-id for non-entity\n",
    "        else:\n",
    "            new_tokens.append(token)\n",
    "            new_labels.append(label)\n",
    "    return {'tokens': new_tokens, 'tags': new_labels}"
   ]
  },
  {
   "cell_type": "code",
   "execution_count": 13,
   "metadata": {},
   "outputs": [
    {
     "name": "stderr",
     "output_type": "stream",
     "text": [
      "Map: 100%|██████████| 88619/88619 [00:10<00:00, 8193.88 examples/s]\n",
      "Map: 100%|██████████| 22110/22110 [00:02<00:00, 8563.17 examples/s]\n"
     ]
    }
   ],
   "source": [
    "raw_ds = raw_ds.map(split_tokens_with_punctuations)"
   ]
  },
  {
   "cell_type": "markdown",
   "metadata": {},
   "source": [
    "#### Considering that BERT has a maximum input length of 512 tokens, we will remove examples that are too long.\n",
    "There should not be a lot samples that are longer than 400 tokens, so we will remove them (besides, further subword tokenization will make them even longer)."
   ]
  },
  {
   "cell_type": "code",
   "execution_count": 15,
   "metadata": {},
   "outputs": [
    {
     "data": {
      "image/png": "[encoded data removed]",
      "text/plain": [
       "<Figure size 640x480 with 1 Axes>"
      ]
     },
     "metadata": {},
     "output_type": "display_data"
    }
   ],
   "source": [
    "lengths_train = [len(example['tokens']) for example in raw_ds['train']]\n",
    "lengths_test = [len(example['tokens']) for example in raw_ds['test']]\n",
    "\n",
    "plt.hist(lengths_train, alpha=0.7, label='train')\n",
    "plt.hist(lengths_test, alpha=0.7, label='test')\n",
    "plt.legend()\n",
    "plt.show()"
   ]
  },
  {
   "cell_type": "code",
   "execution_count": 16,
   "metadata": {},
   "outputs": [
    {
     "name": "stderr",
     "output_type": "stream",
     "text": [
      "Filter: 100%|██████████| 88619/88619 [00:06<00:00, 13191.71 examples/s]\n",
      "Filter: 100%|██████████| 22110/22110 [00:01<00:00, 12922.01 examples/s]\n"
     ]
    },
    {
     "data": {
      "text/plain": [
       "DatasetDict({\n",
       "    train: Dataset({\n",
       "        features: ['tokens', 'tags'],\n",
       "        num_rows: 88458\n",
       "    })\n",
       "    test: Dataset({\n",
       "        features: ['tokens', 'tags'],\n",
       "        num_rows: 22076\n",
       "    })\n",
       "})"
      ]
     },
     "execution_count": 16,
     "metadata": {},
     "output_type": "execute_result"
    }
   ],
   "source": [
    "raw_ds = raw_ds.filter(lambda x: len(x['tokens']) <= 400)\n",
    "raw_ds"
   ]
  },
  {
   "cell_type": "markdown",
   "metadata": {},
   "source": [
    "#### Next, we will divide the data into training, validation and testing sets\n",
    "To reduce training time I decided to take 30000 samples for training, 10000 for validation and 10000 for testing."
   ]
  },
  {
   "cell_type": "code",
   "execution_count": 21,
   "metadata": {},
   "outputs": [
    {
     "data": {
      "text/plain": [
       "DatasetDict({\n",
       "    train: Dataset({\n",
       "        features: ['tokens', 'tags'],\n",
       "        num_rows: 30000\n",
       "    })\n",
       "    val: Dataset({\n",
       "        features: ['tokens', 'tags'],\n",
       "        num_rows: 10000\n",
       "    })\n",
       "    test: Dataset({\n",
       "        features: ['tokens', 'tags'],\n",
       "        num_rows: 10000\n",
       "    })\n",
       "})"
      ]
     },
     "execution_count": 21,
     "metadata": {},
     "output_type": "execute_result"
    }
   ],
   "source": [
    "ds_train_40000 = raw_ds['train'].train_test_split(test_size=40000, seed=SEED)['test']\n",
    "train_val = ds_train_40000.train_test_split(test_size=10000, seed=SEED)\n",
    "train = train_val['train']\n",
    "val = train_val['test']\n",
    "test = raw_ds['test'].train_test_split(test_size=10000, seed=SEED)['test']\n",
    "\n",
    "new_ds = DatasetDict({'train': train, 'val': val, 'test': test})\n",
    "new_ds"
   ]
  },
  {
   "cell_type": "markdown",
   "metadata": {},
   "source": [
    "#### Splitting consecutive entity tokens into B and I tokens"
   ]
  },
  {
   "cell_type": "code",
   "execution_count": 57,
   "metadata": {},
   "outputs": [
    {
     "name": "stderr",
     "output_type": "stream",
     "text": [
      "Map: 100%|██████████| 30000/30000 [00:02<00:00, 14307.84 examples/s]\n",
      "Map: 100%|██████████| 10000/10000 [00:00<00:00, 15637.39 examples/s]\n",
      "Map: 100%|██████████| 10000/10000 [00:00<00:00, 15430.58 examples/s]\n"
     ]
    }
   ],
   "source": [
    "def add_inside_tags(tags):\n",
    "    '''\n",
    "    Add inside tags for the tags.\n",
    "\n",
    "    Args:\n",
    "        tags (list): A list of tags.\n",
    "\n",
    "    Returns:\n",
    "        list: A list of tags with inside tags added.\n",
    "    '''\n",
    "    new_tags = []\n",
    "    prev = 0\n",
    "    for tag in tags:\n",
    "        if tag == 0:\n",
    "            new_tags.append(tag)\n",
    "            prev = 0\n",
    "        elif tag == 1 and prev == 0:\n",
    "            new_tags.append(1)\n",
    "            prev = 1\n",
    "        else:\n",
    "            new_tags.append(2)\n",
    "\n",
    "    return new_tags\n",
    "\n",
    "\n",
    "new_ds = new_ds.map(lambda x: {'tags': add_inside_tags(x['tags'])})"
   ]
  },
  {
   "cell_type": "code",
   "execution_count": 58,
   "metadata": {},
   "outputs": [
    {
     "name": "stdout",
     "output_type": "stream",
     "text": [
      "['On', 'average', ',', 'Blue', 'Mountain', 'sells', 'more', 'than', '750,000', 'lift', 'tickets', 'per', 'year', ',', 'making']\n",
      "[0, 0, 0, 1, 2, 0, 0, 0, 0, 0, 0, 0, 0, 0, 0]\n"
     ]
    }
   ],
   "source": [
    "print(new_ds['train'][0]['tokens'][0:15])\n",
    "print(new_ds['train'][0]['tags'][0:15])"
   ]
  },
  {
   "cell_type": "markdown",
   "metadata": {},
   "source": [
    "#### Saving obtained data"
   ]
  },
  {
   "cell_type": "code",
   "execution_count": 62,
   "metadata": {},
   "outputs": [
    {
     "name": "stderr",
     "output_type": "stream",
     "text": [
      "Saving the dataset (1/1 shards): 100%|██████████| 30000/30000 [00:00<00:00, 988259.24 examples/s]\n",
      "Saving the dataset (1/1 shards): 100%|██████████| 10000/10000 [00:00<00:00, 909117.39 examples/s] \n",
      "Saving the dataset (1/1 shards): 100%|██████████| 10000/10000 [00:00<00:00, 909452.50 examples/s] \n"
     ]
    }
   ],
   "source": [
    "new_ds.save_to_disk(LOCAL_DATASET_PATH)"
   ]
  }
 ],
 "metadata": {
  "kernelspec": {
   "display_name": "main",
   "language": "python",
   "name": "python3"
  },
  "language_info": {
   "codemirror_mode": {
    "name": "ipython",
    "version": 3
   },
   "file_extension": ".py",
   "mimetype": "text/x-python",
   "name": "python",
   "nbconvert_exporter": "python",
   "pygments_lexer": "ipython3",
   "version": "3.10.15"
  }
 },
 "nbformat": 4,
 "nbformat_minor": 2
}
